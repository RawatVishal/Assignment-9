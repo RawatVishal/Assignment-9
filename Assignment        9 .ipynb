{
 "cells": [
  {
   "cell_type": "markdown",
   "id": "95cafd49",
   "metadata": {},
   "source": [
    "# Assignment 9\n"
   ]
  },
  {
   "cell_type": "markdown",
   "id": "63e18fab",
   "metadata": {},
   "source": [
    "# Question 1\n",
    "##Answer-Relative path refer to the path of the current working directory or to the given current directory."
   ]
  },
  {
   "cell_type": "markdown",
   "id": "1f6fce43",
   "metadata": {},
   "source": [
    "# Question 2\n",
    "##Answer - Absolute path refer to the complete details of the file or the folder which we needed to locate .It includes root element and followed by subdirectories."
   ]
  },
  {
   "cell_type": "markdown",
   "id": "c48a58d9",
   "metadata": {},
   "source": [
    "# Question 3 \n",
    "##os.cwd() is used to get the current working directory and os.chdir() is used to change the current working directory."
   ]
  },
  {
   "cell_type": "markdown",
   "id": "8c0d2de7",
   "metadata": {},
   "source": [
    "# Question 4 \n",
    "##Answer - . (single dot) means current directory and ..(double dot) means parent directory "
   ]
  },
  {
   "cell_type": "markdown",
   "id": "f61f26d8",
   "metadata": {},
   "source": [
    "# Question 5 \n",
    "##Directory name - C and base name C:\\bacon\\eggs\\spam.txt when we run it ,it will remove the '\\' and give the result"
   ]
  },
  {
   "cell_type": "markdown",
   "id": "a8d0d14d",
   "metadata": {},
   "source": [
    "# Question 6 \n",
    "##Read mode ,write mode and append mode is used to passed to the open() function.\n"
   ]
  },
  {
   "cell_type": "markdown",
   "id": "42d85ee9",
   "metadata": {},
   "source": [
    "# Question 7\n",
    "##write mode create the file if it doesnot exists and truncate it if it already exists."
   ]
  },
  {
   "cell_type": "markdown",
   "id": "034bd047",
   "metadata": {},
   "source": [
    "# Question 8\n",
    "##Read mode read the entire file and return it as a strings and readlines also read all the lines but return it as a list ."
   ]
  },
  {
   "cell_type": "markdown",
   "id": "7d50cce3",
   "metadata": {},
   "source": [
    "# Question 9\n",
    "##Dictionary value resembles shelf value ."
   ]
  },
  {
   "cell_type": "code",
   "execution_count": null,
   "id": "5060911d",
   "metadata": {},
   "outputs": [],
   "source": []
  }
 ],
 "metadata": {
  "kernelspec": {
   "display_name": "Python 3 (ipykernel)",
   "language": "python",
   "name": "python3"
  },
  "language_info": {
   "codemirror_mode": {
    "name": "ipython",
    "version": 3
   },
   "file_extension": ".py",
   "mimetype": "text/x-python",
   "name": "python",
   "nbconvert_exporter": "python",
   "pygments_lexer": "ipython3",
   "version": "3.9.7"
  }
 },
 "nbformat": 4,
 "nbformat_minor": 5
}
